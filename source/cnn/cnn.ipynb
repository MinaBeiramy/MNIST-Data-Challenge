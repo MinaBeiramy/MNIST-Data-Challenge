{
 "cells": [
  {
   "cell_type": "code",
   "execution_count": null,
   "metadata": {
    "collapsed": true
   },
   "outputs": [],
   "source": []
  },
  {
   "cell_type": "code",
   "execution_count": 1,
   "outputs": [],
   "source": [
    "import pandas as pd\n",
    "import numpy as np\n",
    "\n",
    "import seaborn as sns\n",
    "\n",
    "import matplotlib.pyplot as plt\n",
    "%matplotlib inline\n",
    "\n",
    "import tensorflow as tf\n",
    "\n",
    "from tensorflow.keras import layers\n",
    "from tensorflow.keras.models import Model\n",
    "from tensorflow.keras import metrics\n",
    "from tensorflow.keras import backend as K"
   ],
   "metadata": {
    "collapsed": false
   }
  },
  {
   "cell_type": "code",
   "execution_count": 2,
   "outputs": [],
   "source": [
    "mnist_train = pd.read_csv('../../kaggle_compatition_1/train.csv')\n",
    "mnist_test = pd.read_csv('../../kaggle_compatition_1/test.csv')\n",
    "mnist_train_labels = pd.read_csv('../../kaggle_compatition_1/train_result.csv')"
   ],
   "metadata": {
    "collapsed": false
   }
  },
  {
   "cell_type": "code",
   "execution_count": 3,
   "outputs": [
    {
     "name": "stdout",
     "output_type": "stream",
     "text": [
      "(50000, 1569) (10000, 1569)\n"
     ]
    }
   ],
   "source": [
    "print(mnist_train.shape, mnist_test.shape)"
   ],
   "metadata": {
    "collapsed": false
   }
  },
  {
   "cell_type": "code",
   "execution_count": 9,
   "outputs": [],
   "source": [
    "mnist_train.drop(columns=\"Unnamed: 1568\", axis=1, inplace=True)\n",
    "mnist_test.drop(columns=\"Unnamed: 1568\", axis=1, inplace=True)"
   ],
   "metadata": {
    "collapsed": false
   }
  },
  {
   "cell_type": "code",
   "execution_count": 4,
   "outputs": [
    {
     "data": {
      "text/plain": "       Feature 1  Feature 2  Feature 3  Feature 4  Feature 5  Feature 6  \\\ncount    50000.0    50000.0    50000.0    50000.0    50000.0    50000.0   \nmean         0.0        0.0        0.0        0.0        0.0        0.0   \nstd          0.0        0.0        0.0        0.0        0.0        0.0   \nmin          0.0        0.0        0.0        0.0        0.0        0.0   \n25%          0.0        0.0        0.0        0.0        0.0        0.0   \n50%          0.0        0.0        0.0        0.0        0.0        0.0   \n75%          0.0        0.0        0.0        0.0        0.0        0.0   \nmax          0.0        0.0        0.0        0.0        0.0        0.0   \n\n       Feature 7  Feature 8  Feature 9  Feature 10  ...  Feature 1560  \\\ncount    50000.0    50000.0    50000.0     50000.0  ...  5.000000e+04   \nmean         0.0        0.0        0.0         0.0  ...  3.422656e-04   \nstd          0.0        0.0        0.0         0.0  ...  1.561729e-02   \nmin          0.0        0.0        0.0         0.0  ... -1.079193e-16   \n25%          0.0        0.0        0.0         0.0  ... -7.008095e-21   \n50%          0.0        0.0        0.0         0.0  ...  1.712667e-24   \n75%          0.0        0.0        0.0         0.0  ...  1.032100e-20   \nmax          0.0        0.0        0.0         0.0  ...  9.921875e-01   \n\n       Feature 1561  Feature 1562  Feature 1563  Feature 1564  Feature 1565  \\\ncount  5.000000e+04  5.000000e+04  5.000000e+04  5.000000e+04  5.000000e+04   \nmean   1.289844e-04  4.507813e-05  3.500000e-05  4.843750e-06  4.073494e-21   \nstd    9.351047e-03  5.305435e-03  5.115538e-03  1.083095e-03  7.799532e-19   \nmin   -6.612630e-17 -3.874247e-17 -4.171438e-17 -3.843456e-17 -3.560401e-17   \n25%   -1.911413e-21 -4.709699e-22 -1.216053e-22 -2.819378e-23 -6.457080e-24   \n50%    1.413935e-25  1.519447e-26 -8.717905e-27 -2.206525e-28  7.383244e-28   \n75%    2.213688e-21  5.497079e-22  1.152767e-22  2.907467e-23  7.300542e-24   \nmax    9.882812e-01  9.882812e-01  9.531250e-01  2.421875e-01  6.236504e-17   \n\n       Feature 1566  Feature 1567  Feature 1568  Unnamed: 1568  \ncount  5.000000e+04  5.000000e+04  5.000000e+04            0.0  \nmean  -2.286773e-21 -4.611464e-22 -8.868345e-23            NaN  \nstd    2.411055e-19  3.859540e-20  8.780146e-21            NaN  \nmin   -2.852720e-17 -5.484856e-18 -1.425461e-18            NaN  \n25%   -1.694220e-24 -4.922435e-25 -1.301832e-25            NaN  \n50%    6.269819e-29  7.271217e-30  1.040227e-30            NaN  \n75%    1.756187e-24  4.853708e-25  1.445402e-25            NaN  \nmax    2.088247e-17  1.989290e-18  2.665442e-19            NaN  \n\n[8 rows x 1569 columns]",
      "text/html": "<div>\n<style scoped>\n    .dataframe tbody tr th:only-of-type {\n        vertical-align: middle;\n    }\n\n    .dataframe tbody tr th {\n        vertical-align: top;\n    }\n\n    .dataframe thead th {\n        text-align: right;\n    }\n</style>\n<table border=\"1\" class=\"dataframe\">\n  <thead>\n    <tr style=\"text-align: right;\">\n      <th></th>\n      <th>Feature 1</th>\n      <th>Feature 2</th>\n      <th>Feature 3</th>\n      <th>Feature 4</th>\n      <th>Feature 5</th>\n      <th>Feature 6</th>\n      <th>Feature 7</th>\n      <th>Feature 8</th>\n      <th>Feature 9</th>\n      <th>Feature 10</th>\n      <th>...</th>\n      <th>Feature 1560</th>\n      <th>Feature 1561</th>\n      <th>Feature 1562</th>\n      <th>Feature 1563</th>\n      <th>Feature 1564</th>\n      <th>Feature 1565</th>\n      <th>Feature 1566</th>\n      <th>Feature 1567</th>\n      <th>Feature 1568</th>\n      <th>Unnamed: 1568</th>\n    </tr>\n  </thead>\n  <tbody>\n    <tr>\n      <th>count</th>\n      <td>50000.0</td>\n      <td>50000.0</td>\n      <td>50000.0</td>\n      <td>50000.0</td>\n      <td>50000.0</td>\n      <td>50000.0</td>\n      <td>50000.0</td>\n      <td>50000.0</td>\n      <td>50000.0</td>\n      <td>50000.0</td>\n      <td>...</td>\n      <td>5.000000e+04</td>\n      <td>5.000000e+04</td>\n      <td>5.000000e+04</td>\n      <td>5.000000e+04</td>\n      <td>5.000000e+04</td>\n      <td>5.000000e+04</td>\n      <td>5.000000e+04</td>\n      <td>5.000000e+04</td>\n      <td>5.000000e+04</td>\n      <td>0.0</td>\n    </tr>\n    <tr>\n      <th>mean</th>\n      <td>0.0</td>\n      <td>0.0</td>\n      <td>0.0</td>\n      <td>0.0</td>\n      <td>0.0</td>\n      <td>0.0</td>\n      <td>0.0</td>\n      <td>0.0</td>\n      <td>0.0</td>\n      <td>0.0</td>\n      <td>...</td>\n      <td>3.422656e-04</td>\n      <td>1.289844e-04</td>\n      <td>4.507813e-05</td>\n      <td>3.500000e-05</td>\n      <td>4.843750e-06</td>\n      <td>4.073494e-21</td>\n      <td>-2.286773e-21</td>\n      <td>-4.611464e-22</td>\n      <td>-8.868345e-23</td>\n      <td>NaN</td>\n    </tr>\n    <tr>\n      <th>std</th>\n      <td>0.0</td>\n      <td>0.0</td>\n      <td>0.0</td>\n      <td>0.0</td>\n      <td>0.0</td>\n      <td>0.0</td>\n      <td>0.0</td>\n      <td>0.0</td>\n      <td>0.0</td>\n      <td>0.0</td>\n      <td>...</td>\n      <td>1.561729e-02</td>\n      <td>9.351047e-03</td>\n      <td>5.305435e-03</td>\n      <td>5.115538e-03</td>\n      <td>1.083095e-03</td>\n      <td>7.799532e-19</td>\n      <td>2.411055e-19</td>\n      <td>3.859540e-20</td>\n      <td>8.780146e-21</td>\n      <td>NaN</td>\n    </tr>\n    <tr>\n      <th>min</th>\n      <td>0.0</td>\n      <td>0.0</td>\n      <td>0.0</td>\n      <td>0.0</td>\n      <td>0.0</td>\n      <td>0.0</td>\n      <td>0.0</td>\n      <td>0.0</td>\n      <td>0.0</td>\n      <td>0.0</td>\n      <td>...</td>\n      <td>-1.079193e-16</td>\n      <td>-6.612630e-17</td>\n      <td>-3.874247e-17</td>\n      <td>-4.171438e-17</td>\n      <td>-3.843456e-17</td>\n      <td>-3.560401e-17</td>\n      <td>-2.852720e-17</td>\n      <td>-5.484856e-18</td>\n      <td>-1.425461e-18</td>\n      <td>NaN</td>\n    </tr>\n    <tr>\n      <th>25%</th>\n      <td>0.0</td>\n      <td>0.0</td>\n      <td>0.0</td>\n      <td>0.0</td>\n      <td>0.0</td>\n      <td>0.0</td>\n      <td>0.0</td>\n      <td>0.0</td>\n      <td>0.0</td>\n      <td>0.0</td>\n      <td>...</td>\n      <td>-7.008095e-21</td>\n      <td>-1.911413e-21</td>\n      <td>-4.709699e-22</td>\n      <td>-1.216053e-22</td>\n      <td>-2.819378e-23</td>\n      <td>-6.457080e-24</td>\n      <td>-1.694220e-24</td>\n      <td>-4.922435e-25</td>\n      <td>-1.301832e-25</td>\n      <td>NaN</td>\n    </tr>\n    <tr>\n      <th>50%</th>\n      <td>0.0</td>\n      <td>0.0</td>\n      <td>0.0</td>\n      <td>0.0</td>\n      <td>0.0</td>\n      <td>0.0</td>\n      <td>0.0</td>\n      <td>0.0</td>\n      <td>0.0</td>\n      <td>0.0</td>\n      <td>...</td>\n      <td>1.712667e-24</td>\n      <td>1.413935e-25</td>\n      <td>1.519447e-26</td>\n      <td>-8.717905e-27</td>\n      <td>-2.206525e-28</td>\n      <td>7.383244e-28</td>\n      <td>6.269819e-29</td>\n      <td>7.271217e-30</td>\n      <td>1.040227e-30</td>\n      <td>NaN</td>\n    </tr>\n    <tr>\n      <th>75%</th>\n      <td>0.0</td>\n      <td>0.0</td>\n      <td>0.0</td>\n      <td>0.0</td>\n      <td>0.0</td>\n      <td>0.0</td>\n      <td>0.0</td>\n      <td>0.0</td>\n      <td>0.0</td>\n      <td>0.0</td>\n      <td>...</td>\n      <td>1.032100e-20</td>\n      <td>2.213688e-21</td>\n      <td>5.497079e-22</td>\n      <td>1.152767e-22</td>\n      <td>2.907467e-23</td>\n      <td>7.300542e-24</td>\n      <td>1.756187e-24</td>\n      <td>4.853708e-25</td>\n      <td>1.445402e-25</td>\n      <td>NaN</td>\n    </tr>\n    <tr>\n      <th>max</th>\n      <td>0.0</td>\n      <td>0.0</td>\n      <td>0.0</td>\n      <td>0.0</td>\n      <td>0.0</td>\n      <td>0.0</td>\n      <td>0.0</td>\n      <td>0.0</td>\n      <td>0.0</td>\n      <td>0.0</td>\n      <td>...</td>\n      <td>9.921875e-01</td>\n      <td>9.882812e-01</td>\n      <td>9.882812e-01</td>\n      <td>9.531250e-01</td>\n      <td>2.421875e-01</td>\n      <td>6.236504e-17</td>\n      <td>2.088247e-17</td>\n      <td>1.989290e-18</td>\n      <td>2.665442e-19</td>\n      <td>NaN</td>\n    </tr>\n  </tbody>\n</table>\n<p>8 rows × 1569 columns</p>\n</div>"
     },
     "execution_count": 4,
     "metadata": {},
     "output_type": "execute_result"
    }
   ],
   "source": [
    "mnist_train.describe()"
   ],
   "metadata": {
    "collapsed": false
   }
  },
  {
   "cell_type": "code",
   "execution_count": 10,
   "outputs": [
    {
     "data": {
      "text/plain": "False"
     },
     "execution_count": 10,
     "metadata": {},
     "output_type": "execute_result"
    }
   ],
   "source": [
    "mnist_train.isna().any().any()"
   ],
   "metadata": {
    "collapsed": false
   }
  },
  {
   "cell_type": "code",
   "execution_count": 13,
   "outputs": [
    {
     "name": "stdout",
     "output_type": "stream",
     "text": [
      "IMAGE LABEL: 4\n"
     ]
    },
    {
     "data": {
      "text/plain": "<Figure size 640x480 with 2 Axes>",
      "image/png": "[encoded data removed]"
     },
     "metadata": {},
     "output_type": "display_data"
    }
   ],
   "source": [
    "digit_array = mnist_train.loc[3, \"Feature 1\":]\n",
    "arr = np.array(digit_array)\n",
    "\n",
    "#.reshape(a, (28,28))\n",
    "image_array = np.reshape(arr, (28,56))\n",
    "\n",
    "digit_img = plt.imshow(image_array, cmap=plt.cm.binary)\n",
    "plt.colorbar(digit_img)\n",
    "print(\"IMAGE LABEL: {}\".format(mnist_train_labels.loc[3, \"Class\"]))"
   ],
   "metadata": {
    "collapsed": false
   }
  },
  {
   "cell_type": "code",
   "execution_count": 14,
   "outputs": [
    {
     "data": {
      "text/plain": "(50000, 1568)"
     },
     "execution_count": 14,
     "metadata": {},
     "output_type": "execute_result"
    }
   ],
   "source": [
    "from sklearn.preprocessing import StandardScaler\n",
    "\n",
    "standardized_scalar = StandardScaler()\n",
    "standardized_data = standardized_scalar.fit_transform(mnist_train)\n",
    "standardized_data.shape"
   ],
   "metadata": {
    "collapsed": false
   }
  },
  {
   "cell_type": "code",
   "execution_count": 15,
   "outputs": [
    {
     "data": {
      "text/plain": "(1568, 1568)"
     },
     "execution_count": 15,
     "metadata": {},
     "output_type": "execute_result"
    }
   ],
   "source": [
    "cov_matrix = np.matmul(standardized_data.T, standardized_data)\n",
    "cov_matrix.shape"
   ],
   "metadata": {
    "collapsed": false
   }
  },
  {
   "cell_type": "code",
   "execution_count": 19,
   "outputs": [
    {
     "data": {
      "text/plain": "(1568, 2)"
     },
     "execution_count": 19,
     "metadata": {},
     "output_type": "execute_result"
    }
   ],
   "source": [
    "from scipy.linalg import eigh\n",
    "\n",
    "lambdas, vectors = eigh(cov_matrix, eigvals=(1566, 1567))\n",
    "vectors.shape"
   ],
   "metadata": {
    "collapsed": false
   }
  },
  {
   "cell_type": "code",
   "execution_count": 20,
   "outputs": [
    {
     "data": {
      "text/plain": "(2, 1568)"
     },
     "execution_count": 20,
     "metadata": {},
     "output_type": "execute_result"
    }
   ],
   "source": [
    "vectors = vectors.T\n",
    "vectors.shape"
   ],
   "metadata": {
    "collapsed": false
   }
  },
  {
   "cell_type": "code",
   "execution_count": 23,
   "outputs": [
    {
     "name": "stdout",
     "output_type": "stream",
     "text": [
      "(2, 50000)\n"
     ]
    }
   ],
   "source": [
    "new_coordinates = np.matmul(vectors, standardized_data.T)\n",
    "print(new_coordinates.shape)\n",
    "new_coordinates = np.vstack((new_coordinates, mnist_train_labels['Class'])).T"
   ],
   "metadata": {
    "collapsed": false
   }
  },
  {
   "cell_type": "code",
   "execution_count": 24,
   "outputs": [
    {
     "data": {
      "text/plain": "         f1         f2  labels\n0 -4.271683   9.154192     5.0\n1 -7.357127  -1.756076     4.0\n2 -0.471312   5.090494     5.0\n3  1.141982  10.022976     4.0\n4  5.602787  -5.509460     4.0",
      "text/html": "<div>\n<style scoped>\n    .dataframe tbody tr th:only-of-type {\n        vertical-align: middle;\n    }\n\n    .dataframe tbody tr th {\n        vertical-align: top;\n    }\n\n    .dataframe thead th {\n        text-align: right;\n    }\n</style>\n<table border=\"1\" class=\"dataframe\">\n  <thead>\n    <tr style=\"text-align: right;\">\n      <th></th>\n      <th>f1</th>\n      <th>f2</th>\n      <th>labels</th>\n    </tr>\n  </thead>\n  <tbody>\n    <tr>\n      <th>0</th>\n      <td>-4.271683</td>\n      <td>9.154192</td>\n      <td>5.0</td>\n    </tr>\n    <tr>\n      <th>1</th>\n      <td>-7.357127</td>\n      <td>-1.756076</td>\n      <td>4.0</td>\n    </tr>\n    <tr>\n      <th>2</th>\n      <td>-0.471312</td>\n      <td>5.090494</td>\n      <td>5.0</td>\n    </tr>\n    <tr>\n      <th>3</th>\n      <td>1.141982</td>\n      <td>10.022976</td>\n      <td>4.0</td>\n    </tr>\n    <tr>\n      <th>4</th>\n      <td>5.602787</td>\n      <td>-5.509460</td>\n      <td>4.0</td>\n    </tr>\n  </tbody>\n</table>\n</div>"
     },
     "execution_count": 24,
     "metadata": {},
     "output_type": "execute_result"
    }
   ],
   "source": [
    "df_new = pd.DataFrame(new_coordinates, columns=[\"f1\", \"f2\", \"labels\"])\n",
    "df_new.head()"
   ],
   "metadata": {
    "collapsed": false
   }
  },
  {
   "cell_type": "code",
   "execution_count": 25,
   "outputs": [
    {
     "ename": "TypeError",
     "evalue": "FacetGrid.__init__() got an unexpected keyword argument 'size'",
     "output_type": "error",
     "traceback": [
      "\u001B[0;31m---------------------------------------------------------------------------\u001B[0m",
      "\u001B[0;31mTypeError\u001B[0m                                 Traceback (most recent call last)",
      "Input \u001B[0;32mIn [25]\u001B[0m, in \u001B[0;36m<cell line: 1>\u001B[0;34m()\u001B[0m\n\u001B[0;32m----> 1\u001B[0m \u001B[43msns\u001B[49m\u001B[38;5;241;43m.\u001B[39;49m\u001B[43mFacetGrid\u001B[49m\u001B[43m(\u001B[49m\u001B[43mdf_new\u001B[49m\u001B[43m,\u001B[49m\u001B[43m \u001B[49m\u001B[43mhue\u001B[49m\u001B[38;5;241;43m=\u001B[39;49m\u001B[38;5;124;43m\"\u001B[39;49m\u001B[38;5;124;43mlabels\u001B[39;49m\u001B[38;5;124;43m\"\u001B[39;49m\u001B[43m,\u001B[49m\u001B[43m \u001B[49m\u001B[43msize\u001B[49m\u001B[38;5;241;43m=\u001B[39;49m\u001B[38;5;241;43m6\u001B[39;49m\u001B[43m)\u001B[49m\u001B[38;5;241m.\u001B[39mmap(plt\u001B[38;5;241m.\u001B[39mscatter, \u001B[38;5;124m\"\u001B[39m\u001B[38;5;124mf1\u001B[39m\u001B[38;5;124m\"\u001B[39m, \u001B[38;5;124m\"\u001B[39m\u001B[38;5;124mf2\u001B[39m\u001B[38;5;124m\"\u001B[39m)\u001B[38;5;241m.\u001B[39madd_legend()\n\u001B[1;32m      2\u001B[0m plt\u001B[38;5;241m.\u001B[39mshow()\n",
      "\u001B[0;31mTypeError\u001B[0m: FacetGrid.__init__() got an unexpected keyword argument 'size'"
     ]
    }
   ],
   "source": [
    "sns.FacetGrid(df_new, hue=\"labels\", size=6).map(plt.scatter, \"f1\", \"f2\").add_legend()\n",
    "plt.show()"
   ],
   "metadata": {
    "collapsed": false
   }
  },
  {
   "cell_type": "code",
   "execution_count": 26,
   "outputs": [
    {
     "data": {
      "text/plain": "(50000, 2)"
     },
     "execution_count": 26,
     "metadata": {},
     "output_type": "execute_result"
    }
   ],
   "source": [
    "from sklearn import decomposition\n",
    "\n",
    "pca = decomposition.PCA()\n",
    "pca.n_components = 2\n",
    "pca_data = pca.fit_transform(standardized_data)\n",
    "pca_data.shape"
   ],
   "metadata": {
    "collapsed": false
   }
  },
  {
   "cell_type": "code",
   "execution_count": 29,
   "outputs": [],
   "source": [
    "pca_data = np.vstack((pca_data.T, mnist_train_labels['Class'])).T"
   ],
   "metadata": {
    "collapsed": false
   }
  },
  {
   "cell_type": "code",
   "execution_count": 30,
   "outputs": [
    {
     "data": {
      "text/plain": "         f1         f2  labels\n0 -4.271683   9.154192     5.0\n1 -7.357127  -1.756076     4.0\n2 -0.471312   5.090494     5.0\n3  1.141982  10.022976     4.0\n4  5.602787  -5.509460     4.0",
      "text/html": "<div>\n<style scoped>\n    .dataframe tbody tr th:only-of-type {\n        vertical-align: middle;\n    }\n\n    .dataframe tbody tr th {\n        vertical-align: top;\n    }\n\n    .dataframe thead th {\n        text-align: right;\n    }\n</style>\n<table border=\"1\" class=\"dataframe\">\n  <thead>\n    <tr style=\"text-align: right;\">\n      <th></th>\n      <th>f1</th>\n      <th>f2</th>\n      <th>labels</th>\n    </tr>\n  </thead>\n  <tbody>\n    <tr>\n      <th>0</th>\n      <td>-4.271683</td>\n      <td>9.154192</td>\n      <td>5.0</td>\n    </tr>\n    <tr>\n      <th>1</th>\n      <td>-7.357127</td>\n      <td>-1.756076</td>\n      <td>4.0</td>\n    </tr>\n    <tr>\n      <th>2</th>\n      <td>-0.471312</td>\n      <td>5.090494</td>\n      <td>5.0</td>\n    </tr>\n    <tr>\n      <th>3</th>\n      <td>1.141982</td>\n      <td>10.022976</td>\n      <td>4.0</td>\n    </tr>\n    <tr>\n      <th>4</th>\n      <td>5.602787</td>\n      <td>-5.509460</td>\n      <td>4.0</td>\n    </tr>\n  </tbody>\n</table>\n</div>"
     },
     "execution_count": 30,
     "metadata": {},
     "output_type": "execute_result"
    }
   ],
   "source": [
    "df_PCA = pd.DataFrame(new_coordinates, columns=[\"f1\", \"f2\", \"labels\"])\n",
    "df_PCA.head()"
   ],
   "metadata": {
    "collapsed": false
   }
  },
  {
   "cell_type": "code",
   "execution_count": 31,
   "outputs": [],
   "source": [
    "pca.n_components = 1568\n",
    "pca_data = pca.fit_transform(standardized_data)\n",
    "percent_variance_retained = pca.explained_variance_ / np.sum(pca.explained_variance_)\n",
    "\n",
    "cum_variance_retained = np.cumsum(percent_variance_retained)"
   ],
   "metadata": {
    "collapsed": false
   }
  },
  {
   "cell_type": "code",
   "execution_count": 32,
   "outputs": [
    {
     "data": {
      "text/plain": "<Figure size 1000x600 with 1 Axes>",
      "image/png": "[encoded data removed]"
     },
     "metadata": {},
     "output_type": "display_data"
    }
   ],
   "source": [
    "plt.figure(1, figsize=(10, 6))\n",
    "plt.clf()\n",
    "plt.plot(cum_variance_retained, linewidth=2)\n",
    "plt.axis(\"tight\")\n",
    "plt.grid()\n",
    "plt.xlabel(\"number of compoments\")\n",
    "plt.ylabel(\"cumulative variance retained\")\n",
    "plt.savefig(\"pca_cumulative_variance.png\")\n",
    "plt.show()"
   ],
   "metadata": {
    "collapsed": false
   }
  },
  {
   "cell_type": "code",
   "execution_count": 36,
   "outputs": [],
   "source": [
    "mnist_train_data = np.array(mnist_train)\n",
    "mnist_train_label = np.array(mnist_train_labels['Class'])"
   ],
   "metadata": {
    "collapsed": false
   }
  },
  {
   "cell_type": "code",
   "execution_count": 37,
   "outputs": [
    {
     "name": "stdout",
     "output_type": "stream",
     "text": [
      "(50000, 28, 56, 1) (50000,)\n"
     ]
    }
   ],
   "source": [
    "mnist_train_data = mnist_train_data.reshape(mnist_train_data.shape[0], 28, 56, 1)\n",
    "print(mnist_train_data.shape, mnist_train_label.shape)"
   ],
   "metadata": {
    "collapsed": false
   }
  },
  {
   "cell_type": "code",
   "execution_count": 38,
   "outputs": [],
   "source": [
    "from tensorflow.keras.models import Sequential\n",
    "from tensorflow.keras.layers import Dense, Dropout, Lambda, Flatten, BatchNormalization\n",
    "from tensorflow.keras.layers import Conv2D, MaxPool2D, AvgPool2D\n",
    "from tensorflow.keras.optimizers import Adadelta\n",
    "from keras.utils.np_utils import to_categorical\n",
    "from tensorflow.keras.preprocessing.image import ImageDataGenerator\n",
    "from tensorflow.keras.callbacks import ReduceLROnPlateau\n",
    "from tensorflow.keras.callbacks import LearningRateScheduler"
   ],
   "metadata": {
    "collapsed": false
   }
  },
  {
   "cell_type": "code",
   "execution_count": 39,
   "outputs": [
    {
     "name": "stdout",
     "output_type": "stream",
     "text": [
      "Shape of ytrain after encoding:  (50000, 19)\n"
     ]
    }
   ],
   "source": [
    "nclasses = mnist_train_label.max() - mnist_train_label.min() + 1\n",
    "mnist_train_label = to_categorical(mnist_train_label, num_classes = nclasses)\n",
    "print(\"Shape of ytrain after encoding: \", mnist_train_label.shape)"
   ],
   "metadata": {
    "collapsed": false
   }
  },
  {
   "cell_type": "code",
   "execution_count": 41,
   "outputs": [],
   "source": [
    "def build_model(input_shape=(28, 56, 1)):\n",
    "    model = Sequential()\n",
    "    model.add(Conv2D(32, kernel_size = 3, activation='relu', input_shape = input_shape))\n",
    "    model.add(BatchNormalization())\n",
    "    model.add(Conv2D(32, kernel_size = 3, activation='relu'))\n",
    "    model.add(BatchNormalization())\n",
    "    model.add(Conv2D(32, kernel_size = 5, strides=2, padding='same', activation='relu'))\n",
    "    model.add(BatchNormalization())\n",
    "    model.add(Dropout(0.4))\n",
    "\n",
    "    model.add(Conv2D(64, kernel_size = 3, activation='relu'))\n",
    "    model.add(BatchNormalization())\n",
    "    model.add(Conv2D(64, kernel_size = 3, activation='relu'))\n",
    "    model.add(BatchNormalization())\n",
    "    model.add(Conv2D(64, kernel_size = 5, strides=2, padding='same', activation='relu'))\n",
    "    model.add(BatchNormalization())\n",
    "    model.add(Dropout(0.4))\n",
    "\n",
    "    model.add(Conv2D(128, kernel_size = 4, activation='relu'))\n",
    "    model.add(BatchNormalization())\n",
    "    model.add(Flatten())\n",
    "    model.add(Dropout(0.4))\n",
    "    model.add(Dense(19, activation='softmax'))\n",
    "    return model\n",
    "\n",
    "\n",
    "def compile_model(model, optimizer='adam', loss='categorical_crossentropy'):\n",
    "    model.compile(optimizer=optimizer, loss=loss, metrics=[\"accuracy\"])\n",
    "\n",
    "\n",
    "def train_model(model, train, test, epochs, split):\n",
    "    history = model.fit(train, test, shuffle=True, epochs=epochs, validation_split=split)\n",
    "    return history"
   ],
   "metadata": {
    "collapsed": false
   }
  },
  {
   "cell_type": "code",
   "execution_count": 42,
   "outputs": [
    {
     "name": "stderr",
     "output_type": "stream",
     "text": [
      "2022-10-30 12:47:47.475381: I tensorflow/core/platform/cpu_feature_guard.cc:193] This TensorFlow binary is optimized with oneAPI Deep Neural Network Library (oneDNN) to use the following CPU instructions in performance-critical operations:  SSE4.1 SSE4.2\n",
      "To enable them in other operations, rebuild TensorFlow with the appropriate compiler flags.\n"
     ]
    },
    {
     "name": "stdout",
     "output_type": "stream",
     "text": [
      "Epoch 1/80\n",
      "1250/1250 [==============================] - 59s 47ms/step - loss: 2.2354 - accuracy: 0.2549 - val_loss: 1.2498 - val_accuracy: 0.5541\n",
      "Epoch 2/80\n",
      "1250/1250 [==============================] - 59s 47ms/step - loss: 0.9009 - accuracy: 0.6946 - val_loss: 0.3494 - val_accuracy: 0.9045\n",
      "Epoch 3/80\n",
      "1250/1250 [==============================] - 59s 47ms/step - loss: 0.3994 - accuracy: 0.8783 - val_loss: 0.1771 - val_accuracy: 0.9508\n",
      "Epoch 4/80\n",
      "1250/1250 [==============================] - 59s 47ms/step - loss: 0.2867 - accuracy: 0.9152 - val_loss: 0.1612 - val_accuracy: 0.9560\n",
      "Epoch 5/80\n",
      "1250/1250 [==============================] - 58s 47ms/step - loss: 0.2245 - accuracy: 0.9344 - val_loss: 0.1197 - val_accuracy: 0.9648\n",
      "Epoch 6/80\n",
      "1250/1250 [==============================] - 59s 47ms/step - loss: 0.1930 - accuracy: 0.9440 - val_loss: 0.1071 - val_accuracy: 0.9703\n",
      "Epoch 7/80\n",
      "1250/1250 [==============================] - 59s 47ms/step - loss: 0.1695 - accuracy: 0.9500 - val_loss: 0.0863 - val_accuracy: 0.9754\n",
      "Epoch 8/80\n",
      "1250/1250 [==============================] - 59s 47ms/step - loss: 0.1449 - accuracy: 0.9561 - val_loss: 0.1047 - val_accuracy: 0.9728\n",
      "Epoch 9/80\n",
      "1250/1250 [==============================] - 59s 47ms/step - loss: 0.1383 - accuracy: 0.9582 - val_loss: 0.0819 - val_accuracy: 0.9784\n",
      "Epoch 10/80\n",
      "1250/1250 [==============================] - 59s 47ms/step - loss: 0.1253 - accuracy: 0.9635 - val_loss: 0.0802 - val_accuracy: 0.9794\n",
      "Epoch 11/80\n",
      "1250/1250 [==============================] - 59s 47ms/step - loss: 0.1121 - accuracy: 0.9656 - val_loss: 0.0619 - val_accuracy: 0.9847\n",
      "Epoch 12/80\n",
      "1250/1250 [==============================] - 59s 47ms/step - loss: 0.1020 - accuracy: 0.9697 - val_loss: 0.0678 - val_accuracy: 0.9830\n",
      "Epoch 13/80\n",
      "1250/1250 [==============================] - 59s 47ms/step - loss: 0.0938 - accuracy: 0.9716 - val_loss: 0.0666 - val_accuracy: 0.9810\n",
      "Epoch 14/80\n",
      "1250/1250 [==============================] - 59s 47ms/step - loss: 0.0904 - accuracy: 0.9729 - val_loss: 0.0751 - val_accuracy: 0.9794\n",
      "Epoch 15/80\n",
      "1250/1250 [==============================] - 59s 47ms/step - loss: 0.0827 - accuracy: 0.9750 - val_loss: 0.0646 - val_accuracy: 0.9836\n",
      "Epoch 16/80\n",
      "1250/1250 [==============================] - 59s 47ms/step - loss: 0.0788 - accuracy: 0.9764 - val_loss: 0.0553 - val_accuracy: 0.9862\n",
      "Epoch 17/80\n",
      "1250/1250 [==============================] - 59s 47ms/step - loss: 0.0748 - accuracy: 0.9772 - val_loss: 0.0561 - val_accuracy: 0.9859\n",
      "Epoch 18/80\n",
      "1250/1250 [==============================] - 59s 47ms/step - loss: 0.0691 - accuracy: 0.9787 - val_loss: 0.0658 - val_accuracy: 0.9850\n",
      "Epoch 19/80\n",
      "1250/1250 [==============================] - 59s 47ms/step - loss: 0.0636 - accuracy: 0.9798 - val_loss: 0.0652 - val_accuracy: 0.9840\n",
      "Epoch 20/80\n",
      "1250/1250 [==============================] - 59s 47ms/step - loss: 0.0649 - accuracy: 0.9805 - val_loss: 0.0590 - val_accuracy: 0.9864\n",
      "Epoch 21/80\n",
      "1250/1250 [==============================] - 59s 47ms/step - loss: 0.0597 - accuracy: 0.9811 - val_loss: 0.0600 - val_accuracy: 0.9858\n",
      "Epoch 22/80\n",
      "1250/1250 [==============================] - 59s 47ms/step - loss: 0.0639 - accuracy: 0.9807 - val_loss: 0.0510 - val_accuracy: 0.9876\n",
      "Epoch 23/80\n",
      "1250/1250 [==============================] - 59s 47ms/step - loss: 0.0557 - accuracy: 0.9829 - val_loss: 0.0657 - val_accuracy: 0.9860\n",
      "Epoch 24/80\n",
      "1250/1250 [==============================] - 59s 47ms/step - loss: 0.0577 - accuracy: 0.9831 - val_loss: 0.0461 - val_accuracy: 0.9887\n",
      "Epoch 25/80\n",
      "1250/1250 [==============================] - 59s 47ms/step - loss: 0.0470 - accuracy: 0.9858 - val_loss: 0.0422 - val_accuracy: 0.9892\n",
      "Epoch 26/80\n",
      "1250/1250 [==============================] - 120s 96ms/step - loss: 0.0542 - accuracy: 0.9834 - val_loss: 0.0514 - val_accuracy: 0.9881\n",
      "Epoch 27/80\n",
      "1250/1250 [==============================] - 59s 47ms/step - loss: 0.0486 - accuracy: 0.9848 - val_loss: 0.0530 - val_accuracy: 0.9867\n",
      "Epoch 28/80\n",
      "1250/1250 [==============================] - 59s 47ms/step - loss: 0.0456 - accuracy: 0.9864 - val_loss: 0.0429 - val_accuracy: 0.9894\n",
      "Epoch 29/80\n",
      "1250/1250 [==============================] - 59s 47ms/step - loss: 0.0459 - accuracy: 0.9859 - val_loss: 0.0422 - val_accuracy: 0.9899\n",
      "Epoch 30/80\n",
      "1250/1250 [==============================] - 59s 47ms/step - loss: 0.0438 - accuracy: 0.9866 - val_loss: 0.0370 - val_accuracy: 0.9907\n",
      "Epoch 31/80\n",
      "1250/1250 [==============================] - 59s 47ms/step - loss: 0.0453 - accuracy: 0.9865 - val_loss: 0.0398 - val_accuracy: 0.9904\n",
      "Epoch 32/80\n",
      "1250/1250 [==============================] - 59s 47ms/step - loss: 0.0412 - accuracy: 0.9875 - val_loss: 0.0484 - val_accuracy: 0.9885\n",
      "Epoch 33/80\n",
      "1250/1250 [==============================] - 59s 47ms/step - loss: 0.0426 - accuracy: 0.9870 - val_loss: 0.0382 - val_accuracy: 0.9916\n",
      "Epoch 34/80\n",
      "1250/1250 [==============================] - 59s 47ms/step - loss: 0.0349 - accuracy: 0.9890 - val_loss: 0.0464 - val_accuracy: 0.9893\n",
      "Epoch 35/80\n",
      "1250/1250 [==============================] - 59s 47ms/step - loss: 0.0371 - accuracy: 0.9877 - val_loss: 0.0386 - val_accuracy: 0.9919\n",
      "Epoch 36/80\n",
      "1250/1250 [==============================] - 59s 47ms/step - loss: 0.0383 - accuracy: 0.9880 - val_loss: 0.0381 - val_accuracy: 0.9916\n",
      "Epoch 37/80\n",
      "1250/1250 [==============================] - 59s 47ms/step - loss: 0.0343 - accuracy: 0.9894 - val_loss: 0.0416 - val_accuracy: 0.9919\n",
      "Epoch 38/80\n",
      "1250/1250 [==============================] - 59s 47ms/step - loss: 0.0317 - accuracy: 0.9899 - val_loss: 0.0400 - val_accuracy: 0.9919\n",
      "Epoch 39/80\n",
      "1250/1250 [==============================] - 59s 47ms/step - loss: 0.0380 - accuracy: 0.9885 - val_loss: 0.0446 - val_accuracy: 0.9904\n",
      "Epoch 40/80\n",
      "1250/1250 [==============================] - 59s 47ms/step - loss: 0.0341 - accuracy: 0.9896 - val_loss: 0.0378 - val_accuracy: 0.9916\n",
      "Epoch 41/80\n",
      "1250/1250 [==============================] - 59s 47ms/step - loss: 0.0310 - accuracy: 0.9902 - val_loss: 0.0444 - val_accuracy: 0.9898\n",
      "Epoch 42/80\n",
      "1250/1250 [==============================] - 59s 47ms/step - loss: 0.0335 - accuracy: 0.9895 - val_loss: 0.0412 - val_accuracy: 0.9913\n",
      "Epoch 43/80\n",
      "1250/1250 [==============================] - 59s 47ms/step - loss: 0.0317 - accuracy: 0.9903 - val_loss: 0.0367 - val_accuracy: 0.9915\n",
      "Epoch 44/80\n",
      "1250/1250 [==============================] - 59s 47ms/step - loss: 0.0303 - accuracy: 0.9908 - val_loss: 0.0334 - val_accuracy: 0.9928\n",
      "Epoch 45/80\n",
      "1250/1250 [==============================] - 59s 47ms/step - loss: 0.0294 - accuracy: 0.9909 - val_loss: 0.0369 - val_accuracy: 0.9920\n",
      "Epoch 46/80\n",
      "1250/1250 [==============================] - 59s 47ms/step - loss: 0.0301 - accuracy: 0.9904 - val_loss: 0.0378 - val_accuracy: 0.9911\n",
      "Epoch 47/80\n",
      "1250/1250 [==============================] - 59s 47ms/step - loss: 0.0251 - accuracy: 0.9924 - val_loss: 0.0331 - val_accuracy: 0.9926\n",
      "Epoch 48/80\n",
      "1250/1250 [==============================] - 59s 47ms/step - loss: 0.0291 - accuracy: 0.9907 - val_loss: 0.0382 - val_accuracy: 0.9914\n",
      "Epoch 49/80\n",
      "1250/1250 [==============================] - 59s 47ms/step - loss: 0.0286 - accuracy: 0.9914 - val_loss: 0.0366 - val_accuracy: 0.9919\n",
      "Epoch 50/80\n",
      "1250/1250 [==============================] - 59s 47ms/step - loss: 0.0246 - accuracy: 0.9927 - val_loss: 0.0325 - val_accuracy: 0.9934\n",
      "Epoch 51/80\n",
      "1250/1250 [==============================] - 59s 47ms/step - loss: 0.0278 - accuracy: 0.9916 - val_loss: 0.0423 - val_accuracy: 0.9912\n",
      "Epoch 52/80\n",
      "1250/1250 [==============================] - 59s 47ms/step - loss: 0.0229 - accuracy: 0.9927 - val_loss: 0.0456 - val_accuracy: 0.9899\n",
      "Epoch 53/80\n",
      "1250/1250 [==============================] - 59s 47ms/step - loss: 0.0274 - accuracy: 0.9919 - val_loss: 0.0417 - val_accuracy: 0.9916\n",
      "Epoch 54/80\n",
      "1250/1250 [==============================] - 59s 47ms/step - loss: 0.0264 - accuracy: 0.9917 - val_loss: 0.0297 - val_accuracy: 0.9937\n",
      "Epoch 55/80\n",
      "1250/1250 [==============================] - 59s 48ms/step - loss: 0.0231 - accuracy: 0.9931 - val_loss: 0.0369 - val_accuracy: 0.9920\n",
      "Epoch 56/80\n",
      "1250/1250 [==============================] - 59s 47ms/step - loss: 0.0263 - accuracy: 0.9914 - val_loss: 0.0313 - val_accuracy: 0.9937\n",
      "Epoch 57/80\n",
      "1250/1250 [==============================] - 59s 47ms/step - loss: 0.0254 - accuracy: 0.9918 - val_loss: 0.0306 - val_accuracy: 0.9937\n",
      "Epoch 58/80\n",
      "1250/1250 [==============================] - 59s 47ms/step - loss: 0.0238 - accuracy: 0.9920 - val_loss: 0.0364 - val_accuracy: 0.9932\n",
      "Epoch 59/80\n",
      "1250/1250 [==============================] - 59s 47ms/step - loss: 0.0229 - accuracy: 0.9929 - val_loss: 0.0309 - val_accuracy: 0.9935\n",
      "Epoch 60/80\n",
      "1250/1250 [==============================] - 59s 47ms/step - loss: 0.0237 - accuracy: 0.9926 - val_loss: 0.0387 - val_accuracy: 0.9924\n",
      "Epoch 61/80\n",
      "1250/1250 [==============================] - 59s 48ms/step - loss: 0.0203 - accuracy: 0.9938 - val_loss: 0.0408 - val_accuracy: 0.9925\n",
      "Epoch 62/80\n",
      "1250/1250 [==============================] - 59s 48ms/step - loss: 0.0225 - accuracy: 0.9934 - val_loss: 0.0337 - val_accuracy: 0.9934\n",
      "Epoch 63/80\n",
      "1250/1250 [==============================] - 59s 48ms/step - loss: 0.0218 - accuracy: 0.9935 - val_loss: 0.0359 - val_accuracy: 0.9930\n",
      "Epoch 64/80\n",
      "1250/1250 [==============================] - 59s 48ms/step - loss: 0.0211 - accuracy: 0.9933 - val_loss: 0.0351 - val_accuracy: 0.9932\n",
      "Epoch 65/80\n",
      "1250/1250 [==============================] - 59s 48ms/step - loss: 0.0209 - accuracy: 0.9935 - val_loss: 0.0351 - val_accuracy: 0.9930\n",
      "Epoch 66/80\n",
      "1250/1250 [==============================] - 60s 48ms/step - loss: 0.0215 - accuracy: 0.9938 - val_loss: 0.0423 - val_accuracy: 0.9915\n",
      "Epoch 67/80\n",
      "1250/1250 [==============================] - 60s 48ms/step - loss: 0.0230 - accuracy: 0.9927 - val_loss: 0.0433 - val_accuracy: 0.9920\n",
      "Epoch 68/80\n",
      "1250/1250 [==============================] - 60s 48ms/step - loss: 0.0219 - accuracy: 0.9935 - val_loss: 0.0329 - val_accuracy: 0.9933\n",
      "Epoch 69/80\n",
      "1250/1250 [==============================] - 60s 48ms/step - loss: 0.0222 - accuracy: 0.9929 - val_loss: 0.0344 - val_accuracy: 0.9926\n",
      "Epoch 70/80\n",
      "1250/1250 [==============================] - 60s 48ms/step - loss: 0.0196 - accuracy: 0.9939 - val_loss: 0.0366 - val_accuracy: 0.9915\n",
      "Epoch 71/80\n",
      "1250/1250 [==============================] - 60s 48ms/step - loss: 0.0192 - accuracy: 0.9942 - val_loss: 0.0324 - val_accuracy: 0.9937\n",
      "Epoch 72/80\n",
      "1250/1250 [==============================] - 60s 48ms/step - loss: 0.0224 - accuracy: 0.9930 - val_loss: 0.0318 - val_accuracy: 0.9936\n",
      "Epoch 73/80\n",
      "1250/1250 [==============================] - 60s 48ms/step - loss: 0.0171 - accuracy: 0.9946 - val_loss: 0.0334 - val_accuracy: 0.9934\n",
      "Epoch 74/80\n",
      "1250/1250 [==============================] - 60s 48ms/step - loss: 0.0186 - accuracy: 0.9940 - val_loss: 0.0316 - val_accuracy: 0.9935\n",
      "Epoch 75/80\n",
      "1250/1250 [==============================] - 60s 48ms/step - loss: 0.0174 - accuracy: 0.9941 - val_loss: 0.0292 - val_accuracy: 0.9933\n",
      "Epoch 76/80\n",
      "1250/1250 [==============================] - 60s 48ms/step - loss: 0.0174 - accuracy: 0.9946 - val_loss: 0.0380 - val_accuracy: 0.9921\n",
      "Epoch 77/80\n",
      "1250/1250 [==============================] - 60s 48ms/step - loss: 0.0180 - accuracy: 0.9944 - val_loss: 0.0321 - val_accuracy: 0.9935\n",
      "Epoch 78/80\n",
      "1250/1250 [==============================] - 60s 48ms/step - loss: 0.0148 - accuracy: 0.9953 - val_loss: 0.0304 - val_accuracy: 0.9938\n",
      "Epoch 79/80\n",
      "1250/1250 [==============================] - 60s 48ms/step - loss: 0.0170 - accuracy: 0.9948 - val_loss: 0.0383 - val_accuracy: 0.9913\n",
      "Epoch 80/80\n",
      "1250/1250 [==============================] - 60s 48ms/step - loss: 0.0180 - accuracy: 0.9939 - val_loss: 0.0394 - val_accuracy: 0.9925\n"
     ]
    }
   ],
   "source": [
    "cnn_model = build_model((28, 56, 1))\n",
    "compile_model(cnn_model, 'adam', 'categorical_crossentropy')\n",
    "\n",
    "# train the model for as many epochs as you want but I found training it above 80 will not help us and eventually increase overfitting.\n",
    "model_history = train_model(cnn_model, mnist_train_data, mnist_train_label, 80, 0.2)"
   ],
   "metadata": {
    "collapsed": false
   }
  },
  {
   "cell_type": "code",
   "execution_count": 43,
   "outputs": [],
   "source": [
    "def plot_model_performance(metric, validations_metric):\n",
    "    plt.plot(model_history.history[metric],label = str('Training ' + metric))\n",
    "    plt.plot(model_history.history[validations_metric],label = str('Validation ' + metric))\n",
    "    plt.legend()\n",
    "    plt.savefig(str(metric + '_plot.png'))"
   ],
   "metadata": {
    "collapsed": false
   }
  },
  {
   "cell_type": "code",
   "execution_count": 44,
   "outputs": [
    {
     "data": {
      "text/plain": "<Figure size 640x480 with 1 Axes>",
      "image/png": "[encoded data removed]"
     },
     "metadata": {},
     "output_type": "display_data"
    }
   ],
   "source": [
    "plot_model_performance('accuracy', 'val_accuracy')"
   ],
   "metadata": {
    "collapsed": false
   }
  },
  {
   "cell_type": "code",
   "execution_count": 49,
   "outputs": [
    {
     "name": "stdout",
     "output_type": "stream",
     "text": [
      "(10000, 28, 56, 1)\n"
     ]
    }
   ],
   "source": [
    "mnist_test_arr = np.array(mnist_test)\n",
    "mnist_test_arr = mnist_test_arr.reshape(mnist_test_arr.shape[0], 28, 56, 1)\n",
    "print(mnist_test_arr.shape)"
   ],
   "metadata": {
    "collapsed": false
   }
  },
  {
   "cell_type": "code",
   "execution_count": null,
   "outputs": [],
   "source": [],
   "metadata": {
    "collapsed": false
   }
  },
  {
   "cell_type": "code",
   "execution_count": 50,
   "outputs": [
    {
     "name": "stdout",
     "output_type": "stream",
     "text": [
      "313/313 [==============================] - 5s 16ms/step\n"
     ]
    }
   ],
   "source": [
    "predictions = cnn_model.predict(mnist_test_arr)"
   ],
   "metadata": {
    "collapsed": false
   }
  },
  {
   "cell_type": "code",
   "execution_count": 51,
   "outputs": [],
   "source": [
    "predictions_test = []\n",
    "\n",
    "for i in predictions:\n",
    "    predictions_test.append(np.argmax(i))"
   ],
   "metadata": {
    "collapsed": false
   }
  },
  {
   "cell_type": "code",
   "execution_count": 52,
   "outputs": [],
   "source": [
    "submission =  pd.DataFrame({\n",
    "        \"Index\": mnist_test.index,\n",
    "        \"Class\": predictions_test\n",
    "    })\n",
    "\n",
    "submission.to_csv('./my_submission.csv', index=False)"
   ],
   "metadata": {
    "collapsed": false
   }
  },
  {
   "cell_type": "code",
   "execution_count": 55,
   "outputs": [
    {
     "name": "stderr",
     "output_type": "stream",
     "text": [
      "WARNING:absl:Found untraced functions such as _jit_compiled_convolution_op, _jit_compiled_convolution_op, _jit_compiled_convolution_op, _jit_compiled_convolution_op, _jit_compiled_convolution_op while saving (showing 5 of 7). These functions will not be directly callable after loading.\n"
     ]
    },
    {
     "name": "stdout",
     "output_type": "stream",
     "text": [
      "INFO:tensorflow:Assets written to: ram://dea36058-acb8-4c93-9855-e99848376e91/assets\n"
     ]
    },
    {
     "name": "stderr",
     "output_type": "stream",
     "text": [
      "INFO:tensorflow:Assets written to: ram://dea36058-acb8-4c93-9855-e99848376e91/assets\n"
     ]
    }
   ],
   "source": [
    "import pickle\n",
    "filename = 'cnn.sav'\n",
    "pickle.dump(cnn_model, open(filename, 'wb'))"
   ],
   "metadata": {
    "collapsed": false
   }
  },
  {
   "cell_type": "code",
   "execution_count": null,
   "outputs": [],
   "source": [],
   "metadata": {
    "collapsed": false
   }
  }
 ],
 "metadata": {
  "kernelspec": {
   "display_name": "Python 3",
   "language": "python",
   "name": "python3"
  },
  "language_info": {
   "codemirror_mode": {
    "name": "ipython",
    "version": 2
   },
   "file_extension": ".py",
   "mimetype": "text/x-python",
   "name": "python",
   "nbconvert_exporter": "python",
   "pygments_lexer": "ipython2",
   "version": "2.7.6"
  }
 },
 "nbformat": 4,
 "nbformat_minor": 0
}
